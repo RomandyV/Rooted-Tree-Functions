{
  "nbformat": 4,
  "nbformat_minor": 0,
  "metadata": {
    "anaconda-cloud": {},
    "kernelspec": {
      "display_name": "Python 3",
      "language": "python",
      "name": "python3"
    },
    "language_info": {
      "codemirror_mode": {
        "name": "ipython",
        "version": 3
      },
      "file_extension": ".py",
      "mimetype": "text/x-python",
      "name": "python",
      "nbconvert_exporter": "python",
      "pygments_lexer": "ipython3",
      "version": "3.7.3"
    },
    "colab": {
      "name": "Rooted Trees.ipynb",
      "provenance": [],
      "collapsed_sections": []
    }
  },
  "cells": [
    {
      "cell_type": "markdown",
      "metadata": {
        "id": "W8RAAkFeTFHl"
      },
      "source": [
        "<h1>Rooted Trees</h1>"
      ]
    },
    {
      "cell_type": "markdown",
      "metadata": {
        "id": "IIGjPUO9XaeG"
      },
      "source": [
        "Romandy Vu"
      ]
    },
    {
      "cell_type": "markdown",
      "metadata": {
        "id": "pRaQQo2yTFHu"
      },
      "source": [
        "The purpose of this project is for you to write functions that perform operations on rooted trees, such as finding parents, paths, and subtrees.  You will also find the two rooted trees that result from deleting an edge. The\n",
        "ONLY IMPORT ALLOWED is  \"copy\" and you are ONLY allowed to use the copy.deepcopy() method from this package.  All of your code should be 'from scracth.'  "
      ]
    },
    {
      "cell_type": "markdown",
      "metadata": {
        "id": "kqaPC_sDTFHv"
      },
      "source": [
        "<h2>Objectives</h2>"
      ]
    },
    {
      "cell_type": "markdown",
      "metadata": {
        "id": "i1K-f4YwTFHx"
      },
      "source": [
        "<h3>find_par</h3>"
      ]
    },
    {
      "cell_type": "markdown",
      "metadata": {
        "id": "si-a2iMQTFHy"
      },
      "source": [
        "In the cell below, you are to write a function called \"find_par(tree, root, vert)\" that takes in three inputs:  a rooted tree, its root, and a vertex.  The function is then to return the parent of 'vert' in the tree, and unless 'vert' is the root of the tree, in which case it should return '[]'"
      ]
    },
    {
      "cell_type": "code",
      "metadata": {
        "id": "DFtyCtLvTFHy"
      },
      "source": [
        "def find_par(tree, root, vert):\n",
        "  #Checks to see if the vertex is the root. (The root should have no parents)\n",
        "  if(vert == root):\n",
        "    return []\n",
        "  else:\n",
        "    #Gets/loops the keys of the inputed tree(the dictionary) (parent is the dictionary keys).\n",
        "    for parent in tree:\n",
        "      #Gets/loops the elements of a list of a specific dictionary key (child is the elements of the list of a dictionary key).\n",
        "      for child in tree[parent]:\n",
        "        #Checks to see if the inputted vertex matches an element of a list of a dictionary key which returns that dictionary key.\n",
        "        if vert == child:\n",
        "          return parent"
      ],
      "execution_count": null,
      "outputs": []
    },
    {
      "cell_type": "markdown",
      "metadata": {
        "id": "Cy2sXwL0TFH0"
      },
      "source": [
        "After compiling the above cell, you should be able to compile the following cell and obtain the desired outputs."
      ]
    },
    {
      "cell_type": "code",
      "metadata": {
        "id": "HQzSyJUZTFH0",
        "colab": {
          "base_uri": "https://localhost:8080/"
        },
        "outputId": "f2840301-8175-4799-9a65-3275ee557c1f"
      },
      "source": [
        "print(find_par({\"A\":[\"B\",\"C\"], \"B\":[\"D\",\"E\"], \"C\":[\"F\"], \"D\":[], \"E\":[], \"F\":[]}, \"A\", \"F\"),\n",
        "      find_par({\"A\":[\"B\",\"C\"], \"B\":[\"D\",\"E\"], \"C\":[\"F\"], \"D\":[], \"E\":[], \"F\":[]}, \"A\", \"A\"))\n"
      ],
      "execution_count": null,
      "outputs": [
        {
          "output_type": "stream",
          "text": [
            "C []\n"
          ],
          "name": "stdout"
        }
      ]
    },
    {
      "cell_type": "markdown",
      "metadata": {
        "id": "xDl0DfsjTFH1"
      },
      "source": [
        "This should return\n",
        "\n",
        "\"C\"   []"
      ]
    },
    {
      "cell_type": "code",
      "metadata": {
        "colab": {
          "base_uri": "https://localhost:8080/"
        },
        "id": "K0-PMOzNX9_C",
        "outputId": "6ec4ec5e-ab9c-44df-d4a4-b12603a2b3a3"
      },
      "source": [
        "#Extra Test\n",
        "Simple_Line = {\"A\":[\"B\"],\"B\":[\"C\"], \"C\":[\"D\"],\"D\":[]}\n",
        "\n",
        "Hier_1_and_2 = {\"A\":[\"B\",\"C\"],\"B\":[\"D\",],\"C\":[],\"D\":[\"E\"],\"E\":[\"F\",\"H\"],\"F\":[\"G\"],\"G\":[\"I\",\"J\"],\n",
        "          \"H\":[],\"I\":[],\"J\":[]}\n",
        "\n",
        "Diverge = {\"A\":[\"B\",\"C\"],\"B\":[\"D\",\"E\"],\"C\":[\"F\",\"G\"],\"D\":[],\"E\":[],\"F\":[],\"G\":[]}\n",
        "\n",
        "#Case 1: Root\n",
        "print(\"Case 1\")\n",
        "print(find_par(Simple_Line,\"A\",\"A\"))\n",
        "print(find_par(Hier_1_and_2,\"A\",\"A\"))\n",
        "print(find_par(Diverge,\"A\",\"A\"))\n",
        "\n",
        "#Case 2: Child\n",
        "print(\"Case 2\")\n",
        "print(find_par(Simple_Line,\"A\",\"B\"))\n",
        "print(find_par(Hier_1_and_2,\"A\",\"B\"))\n",
        "print(find_par(Hier_1_and_2,\"A\",\"C\"))\n",
        "print(find_par(Diverge,\"A\",\"B\"))\n",
        "print(find_par(Diverge,\"A\",\"C\"))\n",
        "\n",
        "#Case 3: Grandchild\n",
        "print(\"Case 3\")\n",
        "print(find_par(Simple_Line,\"A\",\"C\"))\n",
        "print(find_par(Hier_1_and_2,\"A\",\"D\"))\n",
        "print(find_par(Diverge,\"A\",\"D\"))\n",
        "print(find_par(Diverge,\"A\",\"E\"))\n",
        "print(find_par(Diverge,\"A\",\"F\"))\n",
        "print(find_par(Diverge,\"A\",\"G\"))\n",
        "\n",
        "#Case 4:\n",
        "print(\"Case 4\")\n",
        "print(find_par(Hier_1_and_2,\"A\",\"E\"))\n",
        "print(find_par(Hier_1_and_2,\"A\",\"H\"))\n",
        "print(find_par(Hier_1_and_2,\"A\",\"F\"))\n",
        "print(find_par(Hier_1_and_2,\"A\",\"J\"))\n",
        "print(find_par(Hier_1_and_2,\"A\",\"I\"))"
      ],
      "execution_count": null,
      "outputs": [
        {
          "output_type": "stream",
          "text": [
            "Case 1\n",
            "[]\n",
            "[]\n",
            "[]\n",
            "Case 2\n",
            "A\n",
            "A\n",
            "A\n",
            "A\n",
            "A\n",
            "Case 3\n",
            "B\n",
            "B\n",
            "B\n",
            "B\n",
            "C\n",
            "C\n",
            "Case 4\n",
            "D\n",
            "E\n",
            "E\n",
            "G\n",
            "G\n"
          ],
          "name": "stdout"
        }
      ]
    },
    {
      "cell_type": "markdown",
      "metadata": {
        "id": "dbp0k6yxTFH2"
      },
      "source": [
        "<h3>path</h3>"
      ]
    },
    {
      "cell_type": "markdown",
      "metadata": {
        "id": "k8APJA7yTFH3"
      },
      "source": [
        "In the cell below, you are to write a function \"path(tree, root, vert)\" that takes in three inputs: a rooted tree, its root, and a vertex.  The function is to return the vertices of the path in the tree from the root to 'vert' in the form of a list."
      ]
    },
    {
      "cell_type": "code",
      "metadata": {
        "collapsed": true,
        "id": "NZebk4jqTFH6"
      },
      "source": [
        "#Requires \"find_par\" function to run.\n",
        "def path(tree,root,vert):\n",
        "  #List to hold the paths (list will be in reverse of desired output (vert to root instead of root to vert))\n",
        "  Reverse_List = []\n",
        "\n",
        "  \"\"\" \n",
        "  Loop firsts adds the inputted vertex to the list, then gets the inputted vertex\n",
        "  parent and loops over until the vertex that is being looked at is the root\n",
        "  \"\"\"\n",
        "  while (root != vert):\n",
        "    Reverse_List.append(vert)\n",
        "    vert = find_par(tree, root, vert)\n",
        "\n",
        "  #Appends the root as it is not appended in the loop.\n",
        "  Reverse_List.append(root)\n",
        "\n",
        "  #The list that is being returned in proper order (root to inputted vertex)\n",
        "  Return_List = []\n",
        "\n",
        "  \"\"\"\n",
        "  index to keep track of the position of the element of Reverse_List \n",
        "  (index is set to the last index value of Reverse_List) so that\n",
        "  the first element in the ReturnList will be the last element in Reverse_List\n",
        "  \"\"\"\n",
        "  index = len(Reverse_List) - 1\n",
        "\n",
        "  \"\"\"\n",
        "  Loop to copy the elements of Reverse_List to Return_List but backwords\n",
        "  (To make it from root to vert)\n",
        "  \"\"\"\n",
        "  while index > -1:\n",
        "    Return_List.append(Reverse_List[index])\n",
        "    \"\"\"\n",
        "    Decrements index to keep track of position of what needs to be added to\n",
        "    Return_List next from Reverse_List\n",
        "    \"\"\" \n",
        "    index = index - 1\n",
        " \n",
        "  return Return_List\n",
        "\n"
      ],
      "execution_count": null,
      "outputs": []
    },
    {
      "cell_type": "markdown",
      "metadata": {
        "id": "PknNgcP-TFH7"
      },
      "source": [
        "After compiling the above cell, you should be able to compile the following cell and obtain the desired outputs."
      ]
    },
    {
      "cell_type": "code",
      "metadata": {
        "id": "JKzbKmIZTFH9",
        "colab": {
          "base_uri": "https://localhost:8080/"
        },
        "outputId": "fdb64b57-1cac-4e8b-b721-f77b0e8ea0df"
      },
      "source": [
        "print(path({\"A\":[\"B\",\"C\"], \"B\":[\"D\",\"E\"], \"C\":[\"F\"], \"D\":[], \"E\":[], \"F\":[]}, \"A\", \"E\"),\n",
        "      path({\"A\":[\"B\",\"C\"], \"B\":[\"D\",\"E\"], \"C\":[\"F\"], \"D\":[], \"E\":[], \"F\":[]}, \"A\", \"A\"))"
      ],
      "execution_count": null,
      "outputs": [
        {
          "output_type": "stream",
          "text": [
            "['A', 'B', 'E'] ['A']\n"
          ],
          "name": "stdout"
        }
      ]
    },
    {
      "cell_type": "markdown",
      "metadata": {
        "id": "P16vkBcdTFH9"
      },
      "source": [
        "This should return \n",
        "\n",
        "[\"A\", \"B\", \"E\"]     [\"A\"]"
      ]
    },
    {
      "cell_type": "code",
      "metadata": {
        "colab": {
          "base_uri": "https://localhost:8080/"
        },
        "id": "eS48wcG6S3aJ",
        "outputId": "89646504-70a9-48a3-ce53-73c8cbec44a5"
      },
      "source": [
        "#Extra Test\n",
        "Simple_Line = {\"A\":[\"B\"],\"B\":[\"C\"], \"C\":[\"D\"],\"D\":[]}\n",
        "\n",
        "Hier_1_and_2 = {\"A\":[\"B\",\"C\"],\"B\":[\"D\",],\"C\":[],\"D\":[\"E\"],\"E\":[\"F\",\"H\"],\"F\":[\"G\"],\"G\":[\"I\",\"J\"],\n",
        "          \"H\":[],\"I\":[],\"J\":[]}\n",
        "\n",
        "Diverge = {\"A\":[\"B\",\"C\"],\"B\":[\"D\",\"E\"],\"C\":[\"F\",\"G\"],\"D\":[],\"E\":[],\"F\":[],\"G\":[]}\n",
        "\n",
        "#Case 1: Root\n",
        "print(\"Case 1\")\n",
        "print(path(Simple_Line,\"A\",\"A\"))\n",
        "print(path(Hier_1_and_2,\"A\",\"A\"))\n",
        "print(path(Diverge,\"A\",\"A\"))\n",
        "\n",
        "#Case 2: Child\n",
        "print(\"Case 2\")\n",
        "print(path(Simple_Line,\"A\",\"B\"))\n",
        "print(path(Hier_1_and_2,\"A\",\"B\"))\n",
        "print(path(Hier_1_and_2,\"A\",\"C\"))\n",
        "print(path(Diverge,\"A\",\"B\"))\n",
        "print(path(Diverge,\"A\",\"C\"))\n",
        "\n",
        "#Case 3: Grandchild\n",
        "print(\"Case 3\")\n",
        "print(path(Simple_Line,\"A\",\"C\"))\n",
        "print(path(Hier_1_and_2,\"A\",\"D\"))\n",
        "print(path(Diverge,\"A\",\"D\"))\n",
        "print(path(Diverge,\"A\",\"E\"))\n",
        "\n",
        "#Case 4:\n",
        "print(\"Case 4\")\n",
        "print(path(Hier_1_and_2,\"A\",\"H\"))\n",
        "print(path(Hier_1_and_2,\"A\",\"J\"))\n",
        "print(path(Hier_1_and_2,\"A\",\"I\"))\n"
      ],
      "execution_count": null,
      "outputs": [
        {
          "output_type": "stream",
          "text": [
            "Case 1\n",
            "['A']\n",
            "['A']\n",
            "['A']\n",
            "Case 2\n",
            "['A', 'B']\n",
            "['A', 'B']\n",
            "['A', 'C']\n",
            "['A', 'B']\n",
            "['A', 'C']\n",
            "Case 3\n",
            "['A', 'B', 'C']\n",
            "['A', 'B', 'D']\n",
            "['A', 'B', 'D']\n",
            "['A', 'B', 'E']\n",
            "Case 4\n",
            "['A', 'B', 'D', 'E', 'H']\n",
            "['A', 'B', 'D', 'E', 'F', 'G', 'J']\n",
            "['A', 'B', 'D', 'E', 'F', 'G', 'I']\n"
          ],
          "name": "stdout"
        }
      ]
    },
    {
      "cell_type": "markdown",
      "metadata": {
        "id": "KfMLikizTFH9"
      },
      "source": [
        "<h3>uni_path</h3>"
      ]
    },
    {
      "cell_type": "markdown",
      "metadata": {
        "id": "Propjm1vTFH_"
      },
      "source": [
        "In the cell below, you are to write a function \"uni_path(tree, root, vert1, vert2)\" that takes in four inputs: a rooted tree, its root, and two vertices.  The function is to return the vertices of unique path in the tree from 'vert1' to 'vert2' in the form of a list.  "
      ]
    },
    {
      "cell_type": "code",
      "metadata": {
        "collapsed": true,
        "id": "GKjvg93ITFH_"
      },
      "source": [
        "#Requires the \"path\" function to run\n",
        "def uni_path(tree, root, vert1, vert2):\n",
        "  Return_List = []\n",
        "  #Gets the path from root to vert1\n",
        "  Vert1_Path = path(tree, root, vert1)\n",
        "  #Gets the path from root to vert2\n",
        "  Vert2_Path = path(tree, root, vert2)\n",
        "\n",
        "  \"\"\"\n",
        "  Loop until the path diverges (vertices are different) or when the list of vert1\n",
        "  or vert2 is empty (if 1 of the list is empty from the loop, \n",
        "  then the a path from the inputted vertex to the root contains the other\n",
        "  inputted vertex).\n",
        "\n",
        "  \"\"\"\n",
        "  while Vert1_Path[0] == Vert2_Path[0]:\n",
        "    \"\"\"\n",
        "    Stores the vertex that is about to be popped the vertex\n",
        "    (Stores the closest vertex between vert1 and vert2\n",
        "    that is the same)\n",
        "    \"\"\"\n",
        "    Same_Last_Vertex = Vert1_Path[0]\n",
        "    \n",
        "    #Pops(removes element at index) the vertex in the list that are the same.\n",
        "    Vert1_Path.pop(0)\n",
        "    Vert2_Path.pop(0)\n",
        "\n",
        "    #Checks to see if the list (paths) is empty, if so breaks the loop.\n",
        "    if(len(Vert1_Path) == 0 or len(Vert2_Path) == 0):\n",
        "      break;\n",
        "    \n",
        "  \"\"\"\n",
        "  Used to reverse the path of vert1 so it is vert1 to the vertex after the closest vertex\n",
        "  that is shared with vert2.\n",
        "  \"\"\"\n",
        "  ReversedList = []\n",
        "  index = len(Vert1_Path) - 1\n",
        "  while index > -1:\n",
        "    ReversedList.append(Vert1_Path[index])\n",
        "    index = index - 1\n",
        "  \n",
        "  Vert1_Path = ReversedList\n",
        "\n",
        "  #Appends the closest vertex that is shared with vert1 and vert2.\n",
        "  Vert1_Path.append(Same_Last_Vertex)\n",
        "\n",
        "  \"\"\"\n",
        "  Combines the new path (list) of vert1 with the new path of vert2\n",
        "  \"\"\"\n",
        "  Return_List = Vert1_Path + Vert2_Path\n",
        "  return Return_List\n",
        "  \n",
        "\n",
        "  \n",
        "\n",
        "\n",
        "  \n"
      ],
      "execution_count": null,
      "outputs": []
    },
    {
      "cell_type": "markdown",
      "metadata": {
        "id": "v63Ua0yLTFH_"
      },
      "source": [
        "After compiling the above cell, you should be able to compile the following cell and obtain the desired outputs."
      ]
    },
    {
      "cell_type": "code",
      "metadata": {
        "id": "ZKso3fnQTFIA",
        "colab": {
          "base_uri": "https://localhost:8080/"
        },
        "outputId": "d9e9be58-157a-4019-b5cf-99770ca19d0d"
      },
      "source": [
        "print(uni_path({\"A\":[\"B\",\"C\"], \"B\":[\"D\",\"E\"], \"C\":[\"F\"], \"D\":[], \"E\":[], \"F\":[]}, \"A\", \"B\", \"F\"),\n",
        "      uni_path({\"A\":[\"B\",\"C\"], \"B\":[\"D\",\"E\"], \"C\":[\"F\"], \"D\":[], \"E\":[], \"F\":[]}, \"A\", \"D\", \"E\"),)\n"
      ],
      "execution_count": null,
      "outputs": [
        {
          "output_type": "stream",
          "text": [
            "['B', 'A', 'C', 'F'] ['D', 'B', 'E']\n"
          ],
          "name": "stdout"
        }
      ]
    },
    {
      "cell_type": "markdown",
      "metadata": {
        "id": "kBb9zT59TFIA"
      },
      "source": [
        "This should return\n",
        "\n",
        "[\"B\", \"A\", \"C\", \"F\"]     [\"D\", \"B\", \"E\"]"
      ]
    },
    {
      "cell_type": "code",
      "metadata": {
        "id": "W0S_ruisL43s",
        "colab": {
          "base_uri": "https://localhost:8080/"
        },
        "outputId": "a12f618d-6c03-4320-d546-2c9270ff0e94"
      },
      "source": [
        "#Extra test\n",
        "#Case 1: Itself\n",
        "Simple_Line = {\"A\":[\"B\"],\"B\":[\"C\"], \"C\":[\"D\"],\"D\":[]}\n",
        "print(\"Case 1\")\n",
        "print(uni_path(Simple_Line,\"A\",\"A\",\"A\"))\n",
        "print(uni_path(Simple_Line,\"A\",\"B\",\"B\"))\n",
        "print(uni_path(Simple_Line,\"A\",\"C\",\"C\"))\n",
        "print(uni_path(Simple_Line,\"A\",\"D\",\"D\"))\n",
        "\n",
        "#Case 2: Parent-Child relation\n",
        "print(\"Case 2\")\n",
        "print(uni_path(Simple_Line,\"A\",\"B\",\"C\"))\n",
        "print(uni_path(Simple_Line,\"A\",\"C\",\"B\"))\n",
        "print(uni_path(Simple_Line,\"A\",\"B\",\"A\"))\n",
        "print(uni_path(Simple_Line,\"A\",\"A\",\"B\"))\n",
        "print(uni_path(Simple_Line,\"A\",\"C\",\"D\"))\n",
        "print(uni_path(Simple_Line,\"A\",\"D\",\"C\"))\n",
        "\n",
        "\n",
        "#Case 3: Straight Line\n",
        "print(\"Case 3\")\n",
        "print(uni_path(Simple_Line,\"A\",\"C\",\"A\"))\n",
        "print(uni_path(Simple_Line,\"A\",\"D\",\"B\"))\n",
        "print(uni_path(Simple_Line,\"A\",\"B\",\"D\"))\n",
        "print(uni_path(Simple_Line,\"A\",\"A\",\"D\"))\n",
        "print(uni_path(Simple_Line,\"A\",\"D\",\"A\"))\n",
        "\n",
        "#Case 4: Meet at root\n",
        "print(\"Case 4\")\n",
        "Diverge = {\"A\":[\"B\",\"C\"],\"B\":[\"D\",\"E\"],\"C\":[\"F\",\"G\"],\"D\":[],\"E\":[],\"F\":[],\"G\":[]}\n",
        "print(uni_path(Diverge,\"A\",\"F\",\"D\"))\n",
        "print(uni_path(Diverge,\"A\",\"E\",\"G\"))\n",
        "\n",
        "#Case 5: Meet at same parent\n",
        "print(\"Case 5\")\n",
        "print(uni_path(Diverge,\"A\",\"D\",\"E\"))\n",
        "print(uni_path(Diverge,\"A\",\"E\",\"D\"))\n",
        "print(uni_path(Diverge,\"A\",\"F\",\"G\"))\n",
        "print(uni_path(Diverge,\"A\",\"G\",\"F\"))\n",
        "\n",
        "\n",
        "#Case 6: 2 Line Deviation\n",
        "Hier_1_and_2 = {\"A\":[\"B\",\"C\"],\"B\":[\"D\",],\"C\":[],\"D\":[\"E\"],\"E\":[\"F\",\"H\"],\"F\":[\"G\"],\"G\":[\"I\",\"J\"],\n",
        "          \"H\":[],\"I\":[],\"J\":[]}\n",
        "        \n",
        "print(\"Case 6\")\n",
        "print(uni_path(Hier_1_and_2,\"A\",\"H\",\"J\"))\n",
        "print(uni_path(Hier_1_and_2,\"A\",\"J\",\"H\"))\n",
        "\n",
        "#Case 7: Deviate to Line\n",
        "print(\"Case 7\")\n",
        "print(uni_path(Hier_1_and_2,\"A\",\"B\",\"J\"))\n",
        "print(uni_path(Hier_1_and_2,\"A\",\"J\",\"B\"))\n",
        "print(uni_path(Hier_1_and_2,\"A\",\"I\",\"H\"))\n",
        "print(uni_path(Hier_1_and_2,\"A\",\"H\",\"I\"))"
      ],
      "execution_count": null,
      "outputs": [
        {
          "output_type": "stream",
          "text": [
            "Case 1\n",
            "['A']\n",
            "['B']\n",
            "['C']\n",
            "['D']\n",
            "Case 2\n",
            "['B', 'C']\n",
            "['C', 'B']\n",
            "['B', 'A']\n",
            "['A', 'B']\n",
            "['C', 'D']\n",
            "['D', 'C']\n",
            "Case 3\n",
            "['C', 'B', 'A']\n",
            "['D', 'C', 'B']\n",
            "['B', 'C', 'D']\n",
            "['A', 'B', 'C', 'D']\n",
            "['D', 'C', 'B', 'A']\n",
            "Case 4\n",
            "['F', 'C', 'A', 'B', 'D']\n",
            "['E', 'B', 'A', 'C', 'G']\n",
            "Case 5\n",
            "['D', 'B', 'E']\n",
            "['E', 'B', 'D']\n",
            "['F', 'C', 'G']\n",
            "['G', 'C', 'F']\n",
            "Case 6\n",
            "['H', 'E', 'F', 'G', 'J']\n",
            "['J', 'G', 'F', 'E', 'H']\n",
            "Case 7\n",
            "['B', 'D', 'E', 'F', 'G', 'J']\n",
            "['J', 'G', 'F', 'E', 'D', 'B']\n",
            "['I', 'G', 'F', 'E', 'H']\n",
            "['H', 'E', 'F', 'G', 'I']\n"
          ],
          "name": "stdout"
        }
      ]
    },
    {
      "cell_type": "markdown",
      "metadata": {
        "id": "yOS7scWmTFIB"
      },
      "source": [
        "<h3>subtree</h3>"
      ]
    },
    {
      "cell_type": "markdown",
      "metadata": {
        "id": "7O4DKH9HTFIB"
      },
      "source": [
        "In the cell below, you are to write a function \"subtree(tree, root, vert)\"  that takes in three inputs:  a rooted tree, its root, and a vertex.  The function is to return the rooted subtree in which 'vert' is the root.  If 'vert' is the root, then it should return the original tree.  "
      ]
    },
    {
      "cell_type": "code",
      "metadata": {
        "collapsed": true,
        "id": "1j38uHJgTFIC"
      },
      "source": [
        "\n",
        "def subtree(tree, root, vert):\n",
        "    #Return_Dictionary is the tree being returned.\n",
        "    Return_Dictionary = {}\n",
        "    \"\"\"\n",
        "    Vertices_List stores the the children or \"grandchildren\" of vert\n",
        "    Used to determine if all the children and granchildren are accounted for.\n",
        "    Used as a queue to get the children of whatever vertex is next.\n",
        "    (Similar to a breadth first search)\n",
        "    \"\"\"\n",
        "    Vertices_List = []\n",
        "    #Adds the vert that is going to be the root.\n",
        "    Vertices_List.append(vert)\n",
        "\n",
        "\n",
        "    \"\"\"\n",
        "    Loop initally gets the children of vert, before getting the children of\n",
        "    a child of vert and so on. Loop ends when there is no more children\n",
        "    (Similar to a breadth first search) \n",
        "    \"\"\"\n",
        "    while len(Vertices_List) != 0:\n",
        "      \"\"\"\n",
        "      Gets the vertex in the list/queue (element at index 0 (first))\n",
        "      \"\"\"\n",
        "      Next_Vertex = Vertices_List[0]\n",
        "      \"\"\"\n",
        "      Creates a key to the dictionary. Key is the parent name.\n",
        "      \"\"\"\n",
        "      Return_Dictionary[Next_Vertex] = []\n",
        "      #Gets the children of the vertex originally in the inputted tree. \n",
        "      for child in tree[Next_Vertex]:\n",
        "        #Adds the element (child) to the specified key (parent)\n",
        "        Return_Dictionary[Next_Vertex].append(child)\n",
        "        #Adds the child to the queue/list.\n",
        "        Vertices_List.append(child)\n",
        "      \"\"\"\n",
        "      Vertex/parent is removed from queue/list \n",
        "      when the all children of vertex is accounted for\n",
        "      \"\"\"\n",
        "      Vertices_List.pop(0)\n",
        "\n",
        "    return Return_Dictionary\n",
        "\n",
        "\n",
        "    \n"
      ],
      "execution_count": null,
      "outputs": []
    },
    {
      "cell_type": "markdown",
      "metadata": {
        "id": "c8ArL3r-TFIC"
      },
      "source": [
        "After compiling the above cell, you should be able to compile the following cell and obtain the desired outputs."
      ]
    },
    {
      "cell_type": "code",
      "metadata": {
        "id": "AqvAv-C8TFID",
        "colab": {
          "base_uri": "https://localhost:8080/"
        },
        "outputId": "3baa2e57-afdf-4d00-9cf7-4046f9d95006"
      },
      "source": [
        "print(subtree({\"A\":[\"B\",\"C\"], \"B\":[\"D\",\"E\"], \"C\":[\"F\"], \"D\":[], \"E\":[], \"F\":[]}, \"A\", \"B\"),\n",
        "      subtree({\"A\":[\"B\",\"C\"], \"B\":[\"D\",\"E\"], \"C\":[\"F\"], \"D\":[], \"E\":[], \"F\":[]}, \"A\", \"F\"))\n",
        "\n",
        "\n",
        "      \n",
        "       "
      ],
      "execution_count": null,
      "outputs": [
        {
          "output_type": "stream",
          "text": [
            "{'B': ['D', 'E'], 'D': [], 'E': []} {'F': []}\n"
          ],
          "name": "stdout"
        }
      ]
    },
    {
      "cell_type": "markdown",
      "metadata": {
        "id": "C_FhFSJNTFID"
      },
      "source": [
        "This should return\n",
        "\n",
        "{\"B\":[\"D\",\"E\"], \"D\":[], \"E\":[]}    {\"F\":[]}, \"A\"(the order in which the vertices appear in the dictionary does not matter, just that you have the right structure represented)"
      ]
    },
    {
      "cell_type": "code",
      "metadata": {
        "colab": {
          "base_uri": "https://localhost:8080/",
          "height": 248
        },
        "id": "p7ds-LuALzCo",
        "outputId": "0ef00db7-830d-4043-f608-f788bc87b382"
      },
      "source": [
        "#Extra Test\n",
        "Simple_Line = {\"A\":[\"B\"],\"B\":[\"C\"], \"C\":[\"D\"],\"D\":[]}\n",
        "\n",
        "Hier_1_and_2 = {\"A\":[\"B\",\"C\"],\"B\":[\"D\",],\"C\":[],\"D\":[\"E\"],\"E\":[\"F\",\"H\"],\"F\":[\"G\"],\"G\":[\"I\",\"J\"],\n",
        "          \"H\":[],\"I\":[],\"J\":[]}\n",
        "\n",
        "Diverge = {\"A\":[\"B\",\"C\"],\"B\":[\"D\",\"E\"],\"C\":[\"F\",\"G\"],\"D\":[],\"E\":[],\"F\":[],\"G\":[]}\n",
        "\n",
        "#Case 1: Root\n",
        "print(\"Case 1\")\n",
        "print(subtree(Simple_Line,\"A\",\"A\"))\n",
        "print(subtree(Hier_1_and_2,\"A\",\"A\"))\n",
        "print(subtree(Diverge,\"A\",\"A\"))\n",
        "\n",
        "#Case 2:\n",
        "print(\"Case 2\")\n",
        "print(subtree(Simple_Line,\"A\",\"B\"))\n",
        "print(subtree(Hier_1_and_2,\"A\",\"B\"))\n",
        "print(subtree(Diverge,\"A\",\"B\"))\n",
        "print(subtree(Diverge,\"A\",\"C\"))\n",
        "\n",
        "#Case 3:\n",
        "print(\"Case 3\")\n",
        "print(subtree(Simple_Line,\"A\",\"D\"))\n",
        "print(subtree(Hier_1_and_2,\"A\",\"E\"))\n",
        "print(subtree(Diverge,\"A\",\"D\"))\n",
        "print(subtree(Diverge,\"A\",\"E\"))\n",
        "print(subtree(Diverge,\"A\",\"F\"))\n",
        "print(subtree(Diverge,\"A\",\"G\"))\n"
      ],
      "execution_count": null,
      "outputs": [
        {
          "output_type": "stream",
          "text": [
            "Case 1\n"
          ],
          "name": "stdout"
        },
        {
          "output_type": "error",
          "ename": "NameError",
          "evalue": "ignored",
          "traceback": [
            "\u001b[0;31m---------------------------------------------------------------------------\u001b[0m",
            "\u001b[0;31mNameError\u001b[0m                                 Traceback (most recent call last)",
            "\u001b[0;32m<ipython-input-3-dd59436f7f39>\u001b[0m in \u001b[0;36m<module>\u001b[0;34m()\u001b[0m\n\u001b[1;32m      9\u001b[0m \u001b[0;31m#Case 1: Root\u001b[0m\u001b[0;34m\u001b[0m\u001b[0;34m\u001b[0m\u001b[0;34m\u001b[0m\u001b[0m\n\u001b[1;32m     10\u001b[0m \u001b[0mprint\u001b[0m\u001b[0;34m(\u001b[0m\u001b[0;34m\"Case 1\"\u001b[0m\u001b[0;34m)\u001b[0m\u001b[0;34m\u001b[0m\u001b[0;34m\u001b[0m\u001b[0m\n\u001b[0;32m---> 11\u001b[0;31m \u001b[0mprint\u001b[0m\u001b[0;34m(\u001b[0m\u001b[0msubtree\u001b[0m\u001b[0;34m(\u001b[0m\u001b[0mSimple_Line\u001b[0m\u001b[0;34m,\u001b[0m\u001b[0;34m\"A\"\u001b[0m\u001b[0;34m,\u001b[0m\u001b[0;34m\"A\"\u001b[0m\u001b[0;34m)\u001b[0m\u001b[0;34m)\u001b[0m\u001b[0;34m\u001b[0m\u001b[0;34m\u001b[0m\u001b[0m\n\u001b[0m\u001b[1;32m     12\u001b[0m \u001b[0mprint\u001b[0m\u001b[0;34m(\u001b[0m\u001b[0msubtree\u001b[0m\u001b[0;34m(\u001b[0m\u001b[0mHier_1_and_2\u001b[0m\u001b[0;34m,\u001b[0m\u001b[0;34m\"A\"\u001b[0m\u001b[0;34m,\u001b[0m\u001b[0;34m\"A\"\u001b[0m\u001b[0;34m)\u001b[0m\u001b[0;34m)\u001b[0m\u001b[0;34m\u001b[0m\u001b[0;34m\u001b[0m\u001b[0m\n\u001b[1;32m     13\u001b[0m \u001b[0mprint\u001b[0m\u001b[0;34m(\u001b[0m\u001b[0msubtree\u001b[0m\u001b[0;34m(\u001b[0m\u001b[0mDiverge\u001b[0m\u001b[0;34m,\u001b[0m\u001b[0;34m\"A\"\u001b[0m\u001b[0;34m,\u001b[0m\u001b[0;34m\"A\"\u001b[0m\u001b[0;34m)\u001b[0m\u001b[0;34m)\u001b[0m\u001b[0;34m\u001b[0m\u001b[0;34m\u001b[0m\u001b[0m\n",
            "\u001b[0;31mNameError\u001b[0m: name 'subtree' is not defined"
          ]
        }
      ]
    },
    {
      "cell_type": "markdown",
      "metadata": {
        "id": "08c3MSIRTFIE"
      },
      "source": [
        "<h3>del_edge(tree, root, edge)</h3>"
      ]
    },
    {
      "cell_type": "markdown",
      "metadata": {
        "id": "PoI7ZgdiTFIF"
      },
      "source": [
        "In the cell below, you are to write a function \"del_edge(tree, root, edge)\" that takes in three inputs, a rooted tree, its root, and an edge in the form of a list with two entries.  The function is to return a list with two entries in which the entries are the two rooted trees that result from deleting 'edge' from the tree."
      ]
    },
    {
      "cell_type": "code",
      "metadata": {
        "collapsed": true,
        "id": "te7NDHa9TFIF"
      },
      "source": [
        "#Requires \"subtree\" function to run\n",
        "import copy\n",
        "def del_edge(tree, root, edge):\n",
        "  #The list that is being returned.\n",
        "  Return_List = []\n",
        "\n",
        "  tree_copy = copy.deepcopy(tree)\n",
        "\n",
        "  \"\"\"\n",
        "  Names the endpoint in the edges (Not needed\n",
        "  but easier to understand)\n",
        "  \"\"\"\n",
        "  Endpoint_X = edge[0]\n",
        "  Endpoint_Y = edge[1]\n",
        "\n",
        "  Root_In_TreeX = False\n",
        "\n",
        "  \n",
        "  #Removes the edge if Endpoint_X has Endpoint_Y as a child\n",
        "  for child in tree_copy[Endpoint_X]:\n",
        "    if child == Endpoint_Y:\n",
        "      tree_copy[Endpoint_X].remove(child)\n",
        "\n",
        "  \"\"\"\n",
        "  Removes the edge if Endpoint_Y has Endpoint_X as a child\n",
        "  (Used to make sure the edge is removed as a tree with edge \"AB\"\n",
        "  maybe inputted to \"BA\").\n",
        "  \"\"\"\n",
        "  for child in tree_copy[Endpoint_Y]:\n",
        "    if child == Endpoint_X:\n",
        "      tree_copy[Endpoint_Y].remove(child)\n",
        "  \n",
        "  \"\"\"\n",
        "  Used to remove any parents/vertices (keys) \n",
        "  that aren't in the new tree with the root\n",
        "  \"\"\"\n",
        "  New_Tree_with_root = subtree(tree_copy, root, root)\n",
        "\n",
        "  \"\"\"\n",
        "  Checks the key name (parent) to see if Endpoint X is \n",
        "  in the new tree that has the root.\n",
        "  \"\"\"\n",
        "  for vertex in New_Tree_with_root:\n",
        "    if vertex == Endpoint_X:\n",
        "      Root_In_TreeX = True\n",
        "\n",
        "  \"\"\"\n",
        "  If Endpoint_X is in the new tree with the root,\n",
        "  then Endpoint_Y is the root of the new tree.\n",
        "  Uses the subtree function to find the new tree with root Endpoint_Y\n",
        "\n",
        "  Else, works similar above, \n",
        "  but Endpoint_X is the root to the newly created tree.\n",
        "  \"\"\"\n",
        "  if Root_In_TreeX == True:\n",
        "      X_Vert_Tree = New_Tree_with_root\n",
        "      Y_Vert_Tree = subtree(tree_copy, \"A\", Endpoint_Y)\n",
        "      \n",
        "  else:\n",
        "      Y_Vert_Tree = New_Tree_with_root\n",
        "      X_Vert_Tree = subtree(tree_copy,\"A\", Endpoint_X)\n",
        "\n",
        "  #Appends the list with the tree that contains Endpoint_X before Endpoint_Y\n",
        "  Return_List.append(X_Vert_Tree)\n",
        "  Return_List.append(Y_Vert_Tree)\n",
        "  return Return_List\n",
        "\n",
        "\n",
        "\n"
      ],
      "execution_count": null,
      "outputs": []
    },
    {
      "cell_type": "markdown",
      "metadata": {
        "id": "HnEMSKhwTFIF"
      },
      "source": [
        "After compiling the above cell, you should be able to compile the following cell and obtain the desired outputs."
      ]
    },
    {
      "cell_type": "code",
      "metadata": {
        "id": "_ggKnliNTFIG",
        "colab": {
          "base_uri": "https://localhost:8080/"
        },
        "outputId": "149587f8-f833-4f32-9452-66a2a30f59fa"
      },
      "source": [
        "print(del_edge({\"A\":[\"B\",\"C\"], \"B\":[\"D\",\"E\"], \"C\":[\"F\"], \"D\":[], \"E\":[], \"F\":[]}, \"A\", [\"A\",\"B\"]),\n",
        "      del_edge({\"A\":[\"B\",\"C\"], \"B\":[\"D\",\"E\"], \"C\":[\"F\"], \"D\":[], \"E\":[], \"F\":[]}, \"A\", [\"C\",\"F\"]))"
      ],
      "execution_count": null,
      "outputs": [
        {
          "output_type": "stream",
          "text": [
            "[{'A': ['C'], 'C': ['F'], 'F': []}, {'B': ['D', 'E'], 'D': [], 'E': []}] [{'A': ['B', 'C'], 'B': ['D', 'E'], 'C': [], 'D': [], 'E': []}, {'F': []}]\n"
          ],
          "name": "stdout"
        }
      ]
    },
    {
      "cell_type": "markdown",
      "metadata": {
        "id": "8GwhfvwpTFIG"
      },
      "source": [
        "This should return\n",
        "\n",
        "[{\"A\":[\"C\"], \"C\":[\"F\"], \"F\":[]}, {\"B\":[\"D\",\"E\"], \"D\":[], \"E\":[]}]   [{\"A\":[\"B\",\"C\"], \"B\":[\"D\",\"E\"], \"C\":[], \"D\":[], \"E\":[]}, {\"F\":[]}]  (the order in which the two trees appears does not matter, just that you have the correct trees)"
      ]
    },
    {
      "cell_type": "code",
      "metadata": {
        "colab": {
          "base_uri": "https://localhost:8080/"
        },
        "id": "TYBBXwiONhMN",
        "outputId": "44f572ec-0a45-4768-d881-c09f74396766"
      },
      "source": [
        "#Extra Test\n",
        "Simple_Line = {\"A\":[\"B\"],\"B\":[\"C\"], \"C\":[\"D\"],\"D\":[]}\n",
        "\n",
        "Hier_1_and_2 = {\"A\":[\"B\",\"C\"],\"B\":[\"D\",],\"C\":[],\"D\":[\"E\"],\"E\":[\"F\",\"H\"],\"F\":[\"G\"],\"G\":[\"I\",\"J\"],\n",
        "          \"H\":[],\"I\":[],\"J\":[]}\n",
        "\n",
        "Diverge = {\"A\":[\"B\",\"C\"],\"B\":[\"D\",\"E\"],\"C\":[\"F\",\"G\"],\"D\":[],\"E\":[],\"F\":[],\"G\":[]}\n",
        "\n",
        "Diverge_Row ={\"Row\":[\"A\"],\"A\":[\"B\",\"C\"],\"B\":[\"D\",\"E\"],\"C\":[\"F\",\"G\"],\"D\":[],\"E\":[],\"F\":[],\"G\":[]}\n",
        "\n",
        "#Case 1: Delete edge of root\n",
        "print(\"Case 1\")\n",
        "print(del_edge(Simple_Line,\"A\",[\"A\",\"B\"]))\n",
        "print(del_edge(Simple_Line,\"A\",[\"B\",\"A\"]))\n",
        "print()\n",
        "print(del_edge(Hier_1_and_2,\"A\",[\"A\",\"B\"]))\n",
        "print(del_edge(Hier_1_and_2,\"A\",[\"B\",\"A\"]))\n",
        "print()\n",
        "print(del_edge(Hier_1_and_2,\"A\",[\"A\",\"C\"]))\n",
        "print(del_edge(Hier_1_and_2,\"A\",[\"C\",\"A\"]))\n",
        "print()\n",
        "print(del_edge(Diverge,\"A\",[\"A\",\"B\"]))\n",
        "print(del_edge(Diverge,\"A\",[\"B\",\"A\"]))\n",
        "print()\n",
        "print(del_edge(Diverge,\"A\",[\"A\",\"C\"]))\n",
        "print(del_edge(Diverge,\"A\",[\"C\",\"A\"]))\n",
        "print()\n",
        "print(del_edge(Diverge_Row,\"Row\",[\"Row\",\"A\"]))\n",
        "print(del_edge(Diverge_Row,\"Row\",[\"A\",\"Row\"]))\n",
        "\n",
        "#Case 2: Delete edge\n",
        "print(\"Case 2\")\n",
        "print(del_edge(Simple_Line,\"A\",[\"B\",\"C\"]))\n",
        "print(del_edge(Simple_Line,\"A\",[\"C\",\"B\"]))\n",
        "print(\"==================================\")\n",
        "print(del_edge(Hier_1_and_2,\"A\",[\"D\",\"E\"]))\n",
        "print(del_edge(Hier_1_and_2,\"A\",[\"E\",\"D\"]))\n",
        "print(\"===================================\")\n",
        "print(del_edge(Diverge_Row,\"Row\",[\"A\",\"B\"]))\n",
        "print(del_edge(Diverge_Row,\"Row\",[\"B\",\"A\"]))\n",
        "print()\n",
        "print(del_edge(Diverge_Row,\"Row\",[\"A\",\"C\"]))\n",
        "print(del_edge(Diverge_Row,\"Row\",[\"C\",\"A\"]))\n",
        "\n",
        "#Case 3\n",
        "print(\"Case 3\")\n",
        "print(del_edge(Hier_1_and_2,\"A\",[\"E\",\"H\"]))\n",
        "print(del_edge(Hier_1_and_2,\"A\",[\"H\",\"E\"]))\n",
        "print()\n",
        "print(del_edge(Hier_1_and_2,\"A\",[\"E\",\"F\"]))\n",
        "print(del_edge(Hier_1_and_2,\"A\",[\"F\",\"E\"]))\n",
        "print()\n",
        "print(del_edge(Hier_1_and_2,\"A\",[\"G\",\"J\"]))\n",
        "print(del_edge(Hier_1_and_2,\"A\",[\"J\",\"G\"]))\n",
        "\n",
        "#Case 4:\n",
        "print(\"Case 4\")\n",
        "print(del_edge(Hier_1_and_2,\"A\",[\"G\",\"I\"]))\n",
        "print(del_edge(Hier_1_and_2,\"A\",[\"I\",\"G\"]))\n",
        "print()\n",
        "print(del_edge(Diverge_Row,\"Row\",[\"B\",\"D\"]))\n",
        "print(del_edge(Diverge_Row,\"Row\",[\"D\",\"B\"]))\n",
        "print()\n",
        "print(del_edge(Diverge_Row,\"Row\",[\"B\",\"E\"]))\n",
        "print(del_edge(Diverge_Row,\"Row\",[\"E\",\"B\"]))\n",
        "print()\n",
        "print(del_edge(Diverge_Row,\"Row\",[\"C\",\"F\"]))\n",
        "print(del_edge(Diverge_Row,\"Row\",[\"F\",\"C\"]))\n",
        "print()\n",
        "print(del_edge(Diverge_Row,\"Row\",[\"C\",\"G\"]))\n",
        "print(del_edge(Diverge_Row,\"Row\",[\"G\",\"C\"]))"
      ],
      "execution_count": null,
      "outputs": [
        {
          "output_type": "stream",
          "text": [
            "Case 1\n",
            "[{'A': []}, {'B': ['C'], 'C': ['D'], 'D': []}]\n",
            "[{'B': ['C'], 'C': ['D'], 'D': []}, {'A': []}]\n",
            "\n",
            "[{'A': ['C'], 'C': []}, {'B': ['D'], 'D': ['E'], 'E': ['F', 'H'], 'F': ['G'], 'H': [], 'G': ['I', 'J'], 'I': [], 'J': []}]\n",
            "[{'B': ['D'], 'D': ['E'], 'E': ['F', 'H'], 'F': ['G'], 'H': [], 'G': ['I', 'J'], 'I': [], 'J': []}, {'A': ['C'], 'C': []}]\n",
            "\n",
            "[{'A': ['B'], 'B': ['D'], 'D': ['E'], 'E': ['F', 'H'], 'F': ['G'], 'H': [], 'G': ['I', 'J'], 'I': [], 'J': []}, {'C': []}]\n",
            "[{'C': []}, {'A': ['B'], 'B': ['D'], 'D': ['E'], 'E': ['F', 'H'], 'F': ['G'], 'H': [], 'G': ['I', 'J'], 'I': [], 'J': []}]\n",
            "\n",
            "[{'A': ['C'], 'C': ['F', 'G'], 'F': [], 'G': []}, {'B': ['D', 'E'], 'D': [], 'E': []}]\n",
            "[{'B': ['D', 'E'], 'D': [], 'E': []}, {'A': ['C'], 'C': ['F', 'G'], 'F': [], 'G': []}]\n",
            "\n",
            "[{'A': ['B'], 'B': ['D', 'E'], 'D': [], 'E': []}, {'C': ['F', 'G'], 'F': [], 'G': []}]\n",
            "[{'C': ['F', 'G'], 'F': [], 'G': []}, {'A': ['B'], 'B': ['D', 'E'], 'D': [], 'E': []}]\n",
            "\n",
            "[{'Row': []}, {'A': ['B', 'C'], 'B': ['D', 'E'], 'C': ['F', 'G'], 'D': [], 'E': [], 'F': [], 'G': []}]\n",
            "[{'A': ['B', 'C'], 'B': ['D', 'E'], 'C': ['F', 'G'], 'D': [], 'E': [], 'F': [], 'G': []}, {'Row': []}]\n",
            "Case 2\n",
            "[{'A': ['B'], 'B': []}, {'C': ['D'], 'D': []}]\n",
            "[{'C': ['D'], 'D': []}, {'A': ['B'], 'B': []}]\n",
            "==================================\n",
            "[{'A': ['B', 'C'], 'B': ['D'], 'C': [], 'D': []}, {'E': ['F', 'H'], 'F': ['G'], 'H': [], 'G': ['I', 'J'], 'I': [], 'J': []}]\n",
            "[{'E': ['F', 'H'], 'F': ['G'], 'H': [], 'G': ['I', 'J'], 'I': [], 'J': []}, {'A': ['B', 'C'], 'B': ['D'], 'C': [], 'D': []}]\n",
            "===================================\n",
            "[{'Row': ['A'], 'A': ['C'], 'C': ['F', 'G'], 'F': [], 'G': []}, {'B': ['D', 'E'], 'D': [], 'E': []}]\n",
            "[{'B': ['D', 'E'], 'D': [], 'E': []}, {'Row': ['A'], 'A': ['C'], 'C': ['F', 'G'], 'F': [], 'G': []}]\n",
            "\n",
            "[{'Row': ['A'], 'A': ['B'], 'B': ['D', 'E'], 'D': [], 'E': []}, {'C': ['F', 'G'], 'F': [], 'G': []}]\n",
            "[{'C': ['F', 'G'], 'F': [], 'G': []}, {'Row': ['A'], 'A': ['B'], 'B': ['D', 'E'], 'D': [], 'E': []}]\n",
            "Case 3\n",
            "[{'A': ['B', 'C'], 'B': ['D'], 'C': [], 'D': ['E'], 'E': ['F'], 'F': ['G'], 'G': ['I', 'J'], 'I': [], 'J': []}, {'H': []}]\n",
            "[{'H': []}, {'A': ['B', 'C'], 'B': ['D'], 'C': [], 'D': ['E'], 'E': ['F'], 'F': ['G'], 'G': ['I', 'J'], 'I': [], 'J': []}]\n",
            "\n",
            "[{'A': ['B', 'C'], 'B': ['D'], 'C': [], 'D': ['E'], 'E': ['H'], 'H': []}, {'F': ['G'], 'G': ['I', 'J'], 'I': [], 'J': []}]\n",
            "[{'F': ['G'], 'G': ['I', 'J'], 'I': [], 'J': []}, {'A': ['B', 'C'], 'B': ['D'], 'C': [], 'D': ['E'], 'E': ['H'], 'H': []}]\n",
            "\n",
            "[{'A': ['B', 'C'], 'B': ['D'], 'C': [], 'D': ['E'], 'E': ['F', 'H'], 'F': ['G'], 'H': [], 'G': ['I'], 'I': []}, {'J': []}]\n",
            "[{'J': []}, {'A': ['B', 'C'], 'B': ['D'], 'C': [], 'D': ['E'], 'E': ['F', 'H'], 'F': ['G'], 'H': [], 'G': ['I'], 'I': []}]\n",
            "Case 4\n",
            "[{'A': ['B', 'C'], 'B': ['D'], 'C': [], 'D': ['E'], 'E': ['F', 'H'], 'F': ['G'], 'H': [], 'G': ['J'], 'J': []}, {'I': []}]\n",
            "[{'I': []}, {'A': ['B', 'C'], 'B': ['D'], 'C': [], 'D': ['E'], 'E': ['F', 'H'], 'F': ['G'], 'H': [], 'G': ['J'], 'J': []}]\n",
            "\n",
            "[{'Row': ['A'], 'A': ['B', 'C'], 'B': ['E'], 'C': ['F', 'G'], 'E': [], 'F': [], 'G': []}, {'D': []}]\n",
            "[{'D': []}, {'Row': ['A'], 'A': ['B', 'C'], 'B': ['E'], 'C': ['F', 'G'], 'E': [], 'F': [], 'G': []}]\n",
            "\n",
            "[{'Row': ['A'], 'A': ['B', 'C'], 'B': ['D'], 'C': ['F', 'G'], 'D': [], 'F': [], 'G': []}, {'E': []}]\n",
            "[{'E': []}, {'Row': ['A'], 'A': ['B', 'C'], 'B': ['D'], 'C': ['F', 'G'], 'D': [], 'F': [], 'G': []}]\n",
            "\n",
            "[{'Row': ['A'], 'A': ['B', 'C'], 'B': ['D', 'E'], 'C': ['G'], 'D': [], 'E': [], 'G': []}, {'F': []}]\n",
            "[{'F': []}, {'Row': ['A'], 'A': ['B', 'C'], 'B': ['D', 'E'], 'C': ['G'], 'D': [], 'E': [], 'G': []}]\n",
            "\n",
            "[{'Row': ['A'], 'A': ['B', 'C'], 'B': ['D', 'E'], 'C': ['F'], 'D': [], 'E': [], 'F': []}, {'G': []}]\n",
            "[{'G': []}, {'Row': ['A'], 'A': ['B', 'C'], 'B': ['D', 'E'], 'C': ['F'], 'D': [], 'E': [], 'F': []}]\n"
          ],
          "name": "stdout"
        }
      ]
    },
    {
      "cell_type": "code",
      "metadata": {
        "collapsed": true,
        "id": "RLusPwkfTFIG"
      },
      "source": [
        ""
      ],
      "execution_count": null,
      "outputs": []
    }
  ]
}